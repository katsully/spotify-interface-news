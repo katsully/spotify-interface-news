{
 "cells": [
  {
   "cell_type": "code",
   "execution_count": null,
   "id": "62cba8b2-c8fb-4969-b4d4-c6ca38a7d82c",
   "metadata": {},
   "outputs": [],
   "source": [
    "import spotipy\n",
    "import spotipy.util as util\n",
    "import webbrowser\n",
    "import json\n",
    "import urllib.request\n",
    "from nltk.corpus import stopwords\n",
    "from nltk import pos_tag\n",
    "import requests\n",
    "import collections\n",
    "import nltk"
   ]
  },
  {
   "cell_type": "code",
   "execution_count": null,
   "id": "d04b9444-fecb-433b-b1ae-88252281eefe",
   "metadata": {},
   "outputs": [],
   "source": [
    "# key_file is a variable representing my key txt file\n",
    "# the 'r' file \n",
    "with open(\"news_key.txt\", 'r') as key_file:\n",
    "    news_key = key_file.read()\n",
    "# close the file\n",
    "key_file.close()\n",
    "print(news_key)"
   ]
  },
  {
   "cell_type": "code",
   "execution_count": null,
   "id": "5449adaa-819b-433b-b81d-986ffb380f29",
   "metadata": {},
   "outputs": [],
   "source": [
    "country = \"us\"\n",
    "category = \"technology\"\n",
    "url = f\"https://newsapi.org/v2/top-headlines?country={country}&category={category}&apiKey={news_key}\"\n",
    "print(url)"
   ]
  },
  {
   "cell_type": "code",
   "execution_count": null,
   "id": "3098e7b9-be12-4831-be37-5df4aff2434a",
   "metadata": {},
   "outputs": [],
   "source": [
    "request = urllib.request.Request(url)\n",
    "response = urllib.request.urlopen(request)"
   ]
  },
  {
   "cell_type": "code",
   "execution_count": null,
   "id": "9e87bc81-522e-4f38-aaaf-d2c363ba1508",
   "metadata": {},
   "outputs": [],
   "source": [
    "news_articles = json.loads(response.read())"
   ]
  },
  {
   "cell_type": "code",
   "execution_count": null,
   "id": "dc1fe32f-7680-4cdd-a25c-766accfb1923",
   "metadata": {},
   "outputs": [],
   "source": [
    "news_articles"
   ]
  },
  {
   "cell_type": "code",
   "execution_count": null,
   "id": "71c88200-b063-4eb5-a34b-66a52827c256",
   "metadata": {},
   "outputs": [],
   "source": []
  },
  {
   "cell_type": "code",
   "execution_count": null,
   "id": "cfa9ec91-1d9a-4ff9-b826-1a38e04c774b",
   "metadata": {},
   "outputs": [],
   "source": [
    "# make a list of all the article titles\n",
    "article_titles = [article['title'] for article in news_articles['articles']]\n",
    "article_titles"
   ]
  },
  {
   "cell_type": "code",
   "execution_count": null,
   "id": "f2d4d316-57fe-4a77-b3a4-bc304d815a31",
   "metadata": {},
   "outputs": [],
   "source": [
    "nltk.download('averaged_perceptron_tagger')"
   ]
  },
  {
   "cell_type": "code",
   "execution_count": null,
   "id": "0493ff32-13c6-44ca-a276-f4e96dc63e97",
   "metadata": {},
   "outputs": [],
   "source": [
    "tagged_words = pos_tag(article_titles[0].split())\n",
    "proper_nouns = [word for word,tag in tagged_words if tag == 'NNP']\n",
    "proper_nouns"
   ]
  },
  {
   "cell_type": "code",
   "execution_count": null,
   "id": "7cab3bdc-579d-4998-8a27-35caafcca0e6",
   "metadata": {},
   "outputs": [],
   "source": [
    "keywords = []\n",
    "my_lista = ['Apple', 'Vision', 'Pro']\n",
    "my_listb = ['Sony', 'Playstation']\n",
    "keywords.extend(my_lista)\n",
    "keywords.extend(my_listb)\n",
    "keywords"
   ]
  },
  {
   "cell_type": "code",
   "execution_count": null,
   "id": "669010a4-8765-43ef-bc5b-d93a3acba115",
   "metadata": {},
   "outputs": [],
   "source": [
    "keywords = []\n",
    "for article_title in article_titles:\n",
    "    # tagged_words will return a list of tuples\n",
    "    tagged_words = pos_tag(article_title.split())\n",
    "    # collect all the proper nouns\n",
    "    keywords.extend([word for word,tag in tagged_words if tag == 'NNP'])\n",
    "\n",
    "keywords"
   ]
  },
  {
   "cell_type": "code",
   "execution_count": null,
   "id": "a01377e2-8048-47a5-a168-cf2acbb95c27",
   "metadata": {},
   "outputs": [],
   "source": [
    "word_counter = collections.Counter(keywords)\n",
    "word_counter"
   ]
  },
  {
   "cell_type": "code",
   "execution_count": null,
   "id": "35f0a7c8-5ef9-4900-a7f4-4649a85a45d6",
   "metadata": {},
   "outputs": [],
   "source": [
    "cred = \"spotify_keys.json\"\n",
    "with open(cred, \"r\") as key_file:\n",
    "    api_tokens = json.load(key_file)\n",
    "\n",
    "key_file.close()"
   ]
  },
  {
   "cell_type": "code",
   "execution_count": null,
   "id": "13bf7476-ec55-4b54-a7a1-3ccb7a30a0e1",
   "metadata": {},
   "outputs": [],
   "source": [
    "client_id = api_tokens['client_id']\n",
    "client_secret = api_tokens['client_secret']\n",
    "redirectURI = api_tokens['redirect']\n",
    "username = api_tokens['username']"
   ]
  },
  {
   "cell_type": "code",
   "execution_count": null,
   "id": "1c4310ba-2d4e-4d64-a9be-a46f798c1e6a",
   "metadata": {},
   "outputs": [],
   "source": [
    "scope = 'user-read-private user-read-playback-state user-modify-playback-state playlist-modify-public user-library-read'\n",
    "token = util.prompt_for_user_token(username, scope, client_id=client_id, client_secret=client_secret, redirect_uri=redirectURI)"
   ]
  },
  {
   "cell_type": "code",
   "execution_count": null,
   "id": "4b44f569-d545-4ad9-b350-88d3d485782b",
   "metadata": {},
   "outputs": [],
   "source": [
    "sp = spotipy.Spotify(auth=token)"
   ]
  },
  {
   "cell_type": "code",
   "execution_count": null,
   "id": "0dde9857-093f-4259-87d3-7f240e1f01c1",
   "metadata": {},
   "outputs": [],
   "source": [
    "songs_for_playlist =[]\n",
    "for keyword in word_counter.keys():\n",
    "    if word_counter[keyword] > 1:\n",
    "        returned_song = sp.search(q=\"artist:\"+keyword, type=\"track\", limit=1)\n",
    "        # make sure something gets returned\n",
    "        if len(returned_song['tracks']['items']) > 0:\n",
    "            songs_for_playlist.append(returned_song['tracks']['items'][0]['uri'])"
   ]
  },
  {
   "cell_type": "code",
   "execution_count": null,
   "id": "7c448d0b-2a99-4906-b6c0-0b6189ec1181",
   "metadata": {},
   "outputs": [],
   "source": [
    "my_playlist = sp.user_playlist_create(user=username, name=\"Today's News\", public=True, description=\"a cheeky little playlist for today\")\n",
    "playlist_with_songs = sp.user_playlist_add_tracks(username, my_playlist['id'], songs_for_playlist)"
   ]
  },
  {
   "cell_type": "code",
   "execution_count": null,
   "id": "eb3c9802-83f2-4029-9feb-59eb5ccb367a",
   "metadata": {},
   "outputs": [],
   "source": [
    "my_playlist"
   ]
  },
  {
   "cell_type": "code",
   "execution_count": null,
   "id": "cdcf232d-500a-407c-9a45-b8fc21c7edf8",
   "metadata": {},
   "outputs": [],
   "source": [
    "webbrowser.open(my_playlist['external_urls']['spotify'])"
   ]
  }
 ],
 "metadata": {
  "kernelspec": {
   "display_name": "Python 3 (ipykernel)",
   "language": "python",
   "name": "python3"
  },
  "language_info": {
   "codemirror_mode": {
    "name": "ipython",
    "version": 3
   },
   "file_extension": ".py",
   "mimetype": "text/x-python",
   "name": "python",
   "nbconvert_exporter": "python",
   "pygments_lexer": "ipython3",
   "version": "3.10.6"
  }
 },
 "nbformat": 4,
 "nbformat_minor": 5
}
